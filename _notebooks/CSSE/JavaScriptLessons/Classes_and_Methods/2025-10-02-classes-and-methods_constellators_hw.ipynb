{
 "cells": [
  {
   "cell_type": "markdown",
   "id": "3ddc81e9",
   "metadata": {},
   "source": [
    "---\n",
    "layout: post\n",
    "toc: True\n",
    "breadcrumb: True\n",
    "title: CSSE Classes and Methods HW\n",
    "description: These are the homework problems and popcorn hacks.\n",
    "permalink: /csse/javascript/fundamentals/classes-and-methods-hw\n",
    "author: Adya S, Niharika B, Salma Z, Anika S, Sophie H\n",
    "---"
   ]
  },
  {
   "cell_type": "markdown",
   "id": "04a627a9",
   "metadata": {},
   "source": [
    "# <div style=\"font-weight:bold;\">Classes and Methods</div>"
   ]
  },
  {
   "cell_type": "markdown",
   "id": "a88704ec",
   "metadata": {},
   "source": [
    "### <div style=\"text-decoration:underline;\">Popcorn Hack 1 - Pet Simulator</div>\n",
    "\n",
    "Analyze the block of code below. Then, complete the following instructions:\n",
    "\n",
    "1) Create a simple Pet class by filling in the blanks.\n",
    "\n",
    "2) Add at least 2 properties (like hunger, energy, or happiness)\n",
    "\n",
    "3) Add at least two functioning methods (such as feed, play, or sleep)\n",
    "\n",
    "4) Give your pet a name and print their current properties. \n",
    "\n",
    "5) Bonus: Add a \"status\" method to print all your pet's stats.\n",
    "\n",
    "The code is currently NOT functional. When you have completed this popcorn hack, the code should work. Have fun!"
   ]
  },
  {
   "cell_type": "code",
   "execution_count": null,
   "id": "83cfb441",
   "metadata": {},
   "outputs": [],
   "source": [
    "class ____ {\n",
    "  constructor(name) {\n",
    "    this.name = name;\n",
    "    this.hunger = 5;   // you can change these values\n",
    "    this.energy = 5;\n",
    "  }\n",
    "\n",
    "  // TODO: Write at least 2 methods here\n",
    "  // Example idea:\n",
    "  // feed() { ... }\n",
    "  // play() { ... }\n",
    "}\n",
    "\n",
    "const myPet = new Pet(\"___\"); // give your pet a name\n",
    "console.log(); // print the properties of your pet\n",
    "\n",
    "// Test your methods below:\n",
    "myPet.feed();\n",
    "myPet.play();"
   ]
  },
  {
   "cell_type": "markdown",
   "id": "eb525919",
   "metadata": {},
   "source": [
    "### <div style=\"text-decoration:underline;\">Popcorn Hack 2 - Dice Roller</div>\n",
    "\n",
    "This hack is a bit more complicated than the first. Points will be awarded based on effort and completion.\n",
    "\n",
    "Instructions:\n",
    "Finish the code in the cell below so it works as described:\n",
    "\n",
    "1) Create a class called Dice that:\n",
    "- Has a property for the number of sides.\n",
    "- Has a method roll() that returns a random number between 1 and the number of sides.\n",
    "\n",
    "2) Create another class called DiceGame that:\n",
    "- Uses two Dice objects.\n",
    "- Has a method play() that rolls both dice and prints who wins (Die 1, Die 2, or a tie).\n",
    "\n",
    "At the bottom, test your game by making a DiceGame object and calling play() a few times.\n"
   ]
  },
  {
   "cell_type": "code",
   "execution_count": null,
   "id": "740b316c",
   "metadata": {},
   "outputs": [],
   "source": [
    "// Build the Dice class here\n",
    "\n",
    "// Build the DiceGame class here\n",
    "\n",
    "// Example Test:\n",
    "const game = new DiceGame(6, 6);\n",
    "game.play();\n",
    "game.play();"
   ]
  },
  {
   "cell_type": "markdown",
   "id": "e7ae67bd",
   "metadata": {},
   "source": [
    "### <div style=\"text-decoration:underline;\">Homework</div>\n",
    "\n",
    "Complete the following questions in the next code block.\n",
    "\n",
    "1) Create a class Person with properties 'name' and 'age'. Print their properties.\n",
    "\n",
    "2) Add a method greet() to your Person class that prints a greeting using the person's name.\n",
    "\n",
    "3) Create a class Book with properties 'title', 'author', and 'pages'. Instantiate a book and print its properties.\n",
    "\n",
    "4) Add a method read(pages) to your Book class that increments a pagesRead property and prints a message.\n",
    "\n",
    "5) Add a method isLongBook() that returns true if pages > 300, otherwise false. Print the result for your book.\n",
    "\n",
    "6) Create a class Car with properties 'make', 'model', and 'fuel'. Add methods drive(distance) and refuel(amount). Print messages in each method.\n",
    "\n",
    "7) Add a static method info() to your Car class that prints 'Cars are vehicles.'\n",
    "\n",
    "8) Create a class ElectricCar that extends Car. Add a property 'battery' and a method charge(amount) that increases battery. Print battery level after charging.\n",
    "\n",
    "10) Create a routine that combines your objects: drive a Car, charge an ElectricCar, read pages from a Book, and call greet() on Person. Print outputs for each action.\n",
    "\n",
    "11) Extra Credit: Submit your OOP Breakout Game Code (found on [OpenCS](https://github.com/Open-Coding-Society/pages/blob/main/hacks/breakout/breakout.md?plain=1)) with the following:\n",
    "- Add another feature to the game: Add a method so that the ball must collide with some bricks twice for a brick to break completely.\n",
    "- Edit a method in the ball class to increase/decrease the speed of the ball: Please add a COMMENT on the game code that specifies which line you edited."
   ]
  },
  {
   "cell_type": "code",
   "execution_count": 3,
   "id": "52d29f28",
   "metadata": {},
   "outputs": [
    {
     "data": {
      "text/plain": [
       "'Code, code, code!'"
      ]
     },
     "execution_count": 3,
     "metadata": {},
     "output_type": "execute_result"
    }
   ],
   "source": [
    "\"Code, code, code!\""
   ]
  }
 ],
 "metadata": {
  "kernelspec": {
   "display_name": "venv",
   "language": "python",
   "name": "python3"
  },
  "language_info": {
   "codemirror_mode": {
    "name": "ipython",
    "version": 3
   },
   "file_extension": ".py",
   "mimetype": "text/x-python",
   "name": "python",
   "nbconvert_exporter": "python",
   "pygments_lexer": "ipython3",
   "version": "3.12.3"
  }
 },
 "nbformat": 4,
 "nbformat_minor": 5
}
