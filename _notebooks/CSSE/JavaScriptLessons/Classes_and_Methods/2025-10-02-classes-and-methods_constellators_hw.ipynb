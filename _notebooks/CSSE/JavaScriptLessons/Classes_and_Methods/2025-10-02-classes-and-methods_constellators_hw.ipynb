{
 "cells": [
  {
   "cell_type": "markdown",
   "id": "3ddc81e9",
   "metadata": {},
   "source": [
    "---\n",
    "layout: post\n",
    "toc: True\n",
    "breadcrumb: True\n",
    "title: CSSE Classes and Methods HW\n",
    "description: These are the homework problems and popcorn hacks.\n",
    "permalink: /csse/javascript/fundamentals/classes-and-methods-hw\n",
    "author: Adya S, Niharika B, Salma Z, Anika S, Sophie H\n",
    "---"
   ]
  },
  {
   "cell_type": "markdown",
   "id": "04a627a9",
   "metadata": {},
   "source": [
    "# <div style=\"font-weight:bold;\">Classes and Methods</div>"
   ]
  },
  {
   "cell_type": "markdown",
   "id": "a88704ec",
   "metadata": {},
   "source": [
    "### <div style=\"text-decoration:underline;\">Popcorn Hack 1 - Pet Simulator</div>\n",
    "\n",
    "Analyze the block of code below. Then, complete the following instructions:\n",
    "\n",
    "1) Create a simple Pet class by filling in the blanks.\n",
    "\n",
    "2) Add at least 2 properties (like hunger, energy, or happiness)\n",
    "\n",
    "3) Add at least two functioning methods (such as feed, play, or sleep)\n",
    "\n",
    "4) Give your pet a name and print their current properties. \n",
    "\n",
    "5) Bonus: Add a \"status\" method to print all your pet's stats.\n",
    "\n",
    "The code is currently NOT functional. When you have completed this popcorn hack, the code should work. Have fun!"
   ]
  },
  {
   "cell_type": "code",
   "execution_count": null,
   "id": "83cfb441",
   "metadata": {},
   "outputs": [],
   "source": [
    "class ____ {\n",
    "  constructor(name) {\n",
    "    this.name = name;\n",
    "    this.hunger = 5;   // you can change these values\n",
    "    this.energy = 5;\n",
    "  }\n",
    "\n",
    "  // TODO: Write at least 2 methods here\n",
    "  // Example idea:\n",
    "  // feed() { ... }\n",
    "  // play() { ... }\n",
    "}\n",
    "\n",
    "const myPet = new Pet(\"___\"); // give your pet a name\n",
    "console.log(); // print the properties of your pet\n",
    "\n",
    "// Test your methods below:\n",
    "myPet.feed();\n",
    "myPet.play();"
   ]
  },
  {
   "cell_type": "markdown",
   "id": "eb525919",
   "metadata": {},
   "source": [
    "### <div style=\"text-decoration:underline;\">Popcorn Hack 2 </div>"
   ]
  }
 ],
 "metadata": {
  "kernelspec": {
   "display_name": "venv",
   "language": "python",
   "name": "python3"
  },
  "language_info": {
   "name": "python",
   "version": "3.12.3"
  }
 },
 "nbformat": 4,
 "nbformat_minor": 5
}
