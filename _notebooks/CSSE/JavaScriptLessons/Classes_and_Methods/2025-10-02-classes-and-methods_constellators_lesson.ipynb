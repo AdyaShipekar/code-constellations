{
 "cells": [
  {
   "cell_type": "markdown",
   "id": "fbc46b2b",
   "metadata": {},
   "source": [
    "---\n",
    "layout: post\n",
    "toc: True\n",
    "breadcrumb: True\n",
    "title: CSSE Classes and Methods Lesson\n",
    "description: These are the homework problems and popcorn hacks.\n",
    "permalink: /csse/javascript/fundamentals/classes-and-methods-lesson\n",
    "author: Adya S, Niharika B, Salma Z, Anika S, Sophie H\n",
    "---"
   ]
  },
  {
   "cell_type": "markdown",
   "id": "7d2a41a6",
   "metadata": {},
   "source": [
    "<style>\n",
    ".glowing-text {\n",
    "  color: #fff; /* Set the text color to white or a light color for better contrast */\n",
    "  text-shadow: 0 0 10px #581696ff, /* Purple glow */\n",
    "               0 0 20px #4a147cff, /* Deeper purple glow */\n",
    "               0 0 30px #2248baff, /* Blue glow */\n",
    "               0 0 40px #092780ff; /* Deeper blue glow */\n",
    "\n",
    "  font-weight: bold;\n",
    "  margin-top: 0;\n",
    "}\n",
    "</style>\n",
    "\n",
    "Presented by the\n",
    "<h4 class=\"glowing-text\">CONSTELLATORS</h4>\n",
    "\n",
    "<hr>\n",
    "\n",
    "# <div style=\"font-weight:bold;\">Classes and Methods</div>\n",
    "\n",
    "### <div style=\"text-decoration:underline;\">What are Classes?</div>\n",
    "\n",
    "- serves as a blueprint or a template for creating objects\n",
    "- defines the structure and behavior that objects of that class will possess. A class encapsulates data (variables, also known as fields or attributes) and methods (functions) that operate on that data. Think of a class like a cookie cutter – it defines the shape and properties of the cookies you'll make, but it's not a cookie itself.\n",
    "\n",
    "### <div style=\"text-decoration:underline;\">What are Methods?</div>\n",
    "\n",
    "\n",
    "### <div style=\"text-decoration:underline;\">Examples of Classes and Methods in OOP Breakout</div>\n",
    "\n",
    "\n",
    "### <div style=\"text-decoration:underline;\">General Examples</div>\n"
   ]
  }
 ],
 "metadata": {
  "language_info": {
   "name": "python"
  }
 },
 "nbformat": 4,
 "nbformat_minor": 5
}
