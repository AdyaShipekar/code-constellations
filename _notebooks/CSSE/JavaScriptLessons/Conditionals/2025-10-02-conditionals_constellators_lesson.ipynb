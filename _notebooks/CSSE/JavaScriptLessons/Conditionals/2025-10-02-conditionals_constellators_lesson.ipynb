{
 "cells": [
  {
   "cell_type": "markdown",
   "id": "b12bfe54",
   "metadata": {},
   "source": [
    "---\n",
    "layout: post\n",
    "toc: True\n",
    "breadcrumb: True\n",
    "title: CSSE Conditionals Lesson\n",
    "description: This is the JavaScript Conditionals Lesson.\n",
    "permalink: /csse/javascript/fundamentals/conditionals-lesson\n",
    "author: Adya S, Niharika B, Salma Z, Anika S, Sophie H\n",
    "---"
   ]
  }
 ],
 "metadata": {
  "language_info": {
   "name": "python"
  }
 },
 "nbformat": 4,
 "nbformat_minor": 5
}
