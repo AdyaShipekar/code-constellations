{
 "cells": [
  {
   "cell_type": "markdown",
   "id": "655f0d43",
   "metadata": {},
   "source": [
    "---\n",
    "layout: post\n",
    "toc: True\n",
    "breadcrumb: True\n",
    "title: CSSE Conditionals HW\n",
    "description: These are the homework problems and popcorn hacks.\n",
    "permalink: /csse/javascript/fundamentals/conditionals-hw\n",
    "author: Adya S, Niharika B, Salma Z, Anika S, Sophie H\n",
    "---"
   ]
  }
 ],
 "metadata": {
  "language_info": {
   "name": "python"
  }
 },
 "nbformat": 4,
 "nbformat_minor": 5
}
