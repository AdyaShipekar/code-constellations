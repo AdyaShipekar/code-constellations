{
 "cells": [
  {
   "cell_type": "raw",
   "id": "655f0d43",
   "metadata": {
    "vscode": {
     "languageId": "raw"
    }
   },
   "source": [
    "---\n",
    "layout: post\n",
    "title: Constellators - Conditionals HW\n",
    "description: These are the homework problems and popcorn hacks.\n",
    "permalink: /csse/javascript/constellators/conditionals-hw\n",
    "author: Adya S, Niharika B, Salma Z, Anika S, Sophie H\n",
    "---"
   ]
  },
  {
   "cell_type": "markdown",
   "id": "8b8594f8",
   "metadata": {},
   "source": [
    "## **Conditionals**"
   ]
  },
  {
   "cell_type": "markdown",
   "id": "bafa8faf",
   "metadata": {},
   "source": [
    "### <u>Popcorn Hack 1 - Simple Conditionals</u>\n",
    "\n",
    "Instructions:\n",
    "Finish the code in the cell below (fill in underlines and add lines of code) so it works as described:\n",
    "\n",
    "**Examples of conditionals you could use:**\n",
    "\n",
    "1) Define your mood today and give yourself ice cream if you're happy\n",
    "- challenge 1: add \"else if\" conditionals that echo different strings based on different moods\n",
    "- challenge 2: add user input to define a \"mood\" variable\n",
    "\n",
    "2) Define the weather today and echo \"It's sunny outside!\" if it's sunny\n",
    "- challenge 1: add \"else if\" conditionals that define other weather\n",
    "- challenge 2: let the user input today’s weather and respond automatically\n",
    "\n",
    "3) Define your age as a variable and check whether you are an adult or a child.\n",
    "- challenge 1: expand to add other categories using \"else if\" conditionals\n",
    "- challenge 2: create a random age generator and test the conditional multiple times to see different results\n",
    "\n",
    "The code is currently NOT functional. When you have completed this popcorn hack, the code should work. Have fun!"
   ]
  },
  {
   "cell_type": "code",
   "execution_count": 2,
   "id": "41fab177",
   "metadata": {
    "vscode": {
     "languageId": "html"
    }
   },
   "outputs": [
    {
     "data": {
      "text/html": [
       "\n",
       "<div id=\"outputPH1\">Results will appear here:<br></div>\n",
       "\n",
       "<script>\n",
       "\n",
       "(() => {\n",
       "\n",
       "    const output = document.getElementById(\"outputPH1\");\n",
       "\n",
       "    let ______ = __________ // Define a variable and assign it a value\n",
       "\n",
       "    if (____________) { // \n",
       "        console.log(\"______________________\");\n",
       "        output.innerHTML += \"______________________\";\n",
       "    } else if (____________) {\n",
       "        console.log(\"______________________\");\n",
       "        output.innerHTML += \"______________________\";\n",
       "    } else {\n",
       "        console.log(\"______________________\");\n",
       "        output.innerHTML += \"______________________\";\n",
       "    }\n",
       "\n",
       "})();\n",
       "\n",
       "</script>\n",
       "\n"
      ],
      "text/plain": [
       "<IPython.core.display.HTML object>"
      ]
     },
     "metadata": {},
     "output_type": "display_data"
    }
   ],
   "source": [
    "%%html\n",
    "\n",
    "<div id=\"outputPH1\">Results will appear here:<br></div>\n",
    "\n",
    "<script>\n",
    "\n",
    "(() => {\n",
    "\n",
    "    const output = document.getElementById(\"outputPH1\");\n",
    "\n",
    "    let ______ = __________ // Define a variable and assign it a value\n",
    "    \n",
    "    if (____________) { // \n",
    "        console.log(\"______________________\");\n",
    "        output.innerHTML += \"______________________\";\n",
    "    } else if (____________) {\n",
    "        console.log(\"______________________\");\n",
    "        output.innerHTML += \"______________________\";\n",
    "    } else {\n",
    "        console.log(\"______________________\");\n",
    "        output.innerHTML += \"______________________\";\n",
    "    }\n",
    "\n",
    "})();\n",
    "\n",
    "</script>\n",
    "\n"
   ]
  },
  {
   "cell_type": "markdown",
   "id": "b0828d4a",
   "metadata": {},
   "source": [
    "### <u>Popcorn Hack 2 - Complex Conditionals</u>\n",
    "\n",
    "Instructions:\n"
   ]
  }
 ],
 "metadata": {
  "kernelspec": {
   "display_name": "venv",
   "language": "python",
   "name": "python3"
  },
  "language_info": {
   "codemirror_mode": {
    "name": "ipython",
    "version": 3
   },
   "file_extension": ".py",
   "mimetype": "text/x-python",
   "name": "python",
   "nbconvert_exporter": "python",
   "pygments_lexer": "ipython3",
   "version": "3.12.3"
  }
 },
 "nbformat": 4,
 "nbformat_minor": 5
}
