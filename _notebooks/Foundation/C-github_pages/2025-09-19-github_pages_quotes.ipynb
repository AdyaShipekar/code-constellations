{
 "cells": [
  {
   "cell_type": "code",
   "execution_count": null,
   "id": "6a99ccbe",
   "metadata": {
    "vscode": {
     "languageId": "plaintext"
    }
   },
   "outputs": [],
   "source": [
    "---\n",
    "layout: post\n",
    "toc: True\n",
    "breadcrumb: True\n",
    "title: Mr. Mortenson's quotes \n",
    "description: The (in)famous John Mortenson and his collection of quotes.\n",
    "permalink: /github/pages/quotes\n",
    "author: John Mortensen my goat\n",
    "---"
   ]
  },
  {
   "cell_type": "markdown",
   "id": "e85d5d79",
   "metadata": {},
   "source": [
    "## Mr. Mortenson Quotes\n",
    "\n",
    "\"Ubiquitous...how do you spell ubiquitous?\" - Mort 2025\n",
    "\n",
    "\"The Agile Methodology is somewhat like mermaid tails. Have any of you played mermaids before?\" - Mort 2025\n",
    "\n",
    "\"When dinosaurs roamed the earth and I was running between their legs, I was thinking about mobile apps\" - Mort 2025\n",
    "\n",
    "\"Your UFO looks like it's about to crash. In the middle of Nevada\" - Mort 2025\n",
    "\n",
    "\"If I saw Sophie shooting baskets during work hours, I wouldn't know if Sophie was shooting baskets to de-stress or if she was slacking off\" - Mort 2025\n",
    "\n",
    "\"They're so close to you, they might bite off your nose\" - Mort 2025\n",
    "\n",
    "\"An involuntary reaction is like a fart. When you have a fart, you don't plan it.\" - Mort 2025\n",
    "\n",
    "\"Who's 'Penguin?'\" - Mort 2025\n",
    "\n",
    "“Your tongue just starts flapping.” - Mort 2025\n",
    "\n",
    "“Who the heck is Peppa? Demo Peppa if you’re going to show Peppa!” - Mort 2025\n",
    "<br>“Don’t call every variable a Peppa thing!” - Mort 2025\n",
    "\n",
    "“n=1 and they're going to start popping off and doing the homework” - Mort 2025\n",
    "\n",
    "\"There would probably be like 6 or 7 NPCs you have to interact with.\" - Mort 2025"
   ]
  }
 ],
 "metadata": {
  "language_info": {
   "name": "python"
  }
 },
 "nbformat": 4,
 "nbformat_minor": 5
}
